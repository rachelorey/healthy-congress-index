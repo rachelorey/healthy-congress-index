{
 "cells": [
  {
   "cell_type": "code",
   "execution_count": 4,
   "metadata": {},
   "outputs": [
    {
     "name": "stdout",
     "output_type": "stream",
     "text": [
      "UEcKdB7WGClamPX6uHFbVQq6GFaFjjbn3fTdKcDy\n"
     ]
    },
    {
     "ename": "NameError",
     "evalue": "name 'volume_number' is not defined",
     "output_type": "error",
     "traceback": [
      "\u001b[0;31m---------------------------------------------------------------------------\u001b[0m",
      "\u001b[0;31mNameError\u001b[0m                                 Traceback (most recent call last)",
      "Cell \u001b[0;32mIn[4], line 30\u001b[0m\n\u001b[1;32m     25\u001b[0m \u001b[38;5;28;01mif\u001b[39;00m \u001b[38;5;18m__name__\u001b[39m \u001b[38;5;241m==\u001b[39m \u001b[38;5;124m\"\u001b[39m\u001b[38;5;124m__main__\u001b[39m\u001b[38;5;124m\"\u001b[39m:\n\u001b[1;32m     26\u001b[0m     \u001b[38;5;66;03m# Replace with your actual API key\u001b[39;00m\n\u001b[1;32m     27\u001b[0m     api_key \u001b[38;5;241m=\u001b[39m \u001b[38;5;124m'\u001b[39m\u001b[38;5;124mUEcKdB7WGClamPX6uHFbVQq6GFaFjjbn3fTdKcDy\u001b[39m\u001b[38;5;124m'\u001b[39m\n\u001b[0;32m---> 30\u001b[0m     data \u001b[38;5;241m=\u001b[39m fetch_full_issue(api_key, \u001b[43mvolume_number\u001b[49m, issue_number)\n\u001b[1;32m     31\u001b[0m     \u001b[38;5;28mprint\u001b[39m(data)\n",
      "\u001b[0;31mNameError\u001b[0m: name 'volume_number' is not defined"
     ]
    }
   ],
   "source": [
    "import requests\n",
    "import json\n",
    "import os \n",
    "\n",
    "api_key = os.getenv('CONGRESS_API_KEY')\n",
    "\n",
    "def fetch_full_issue(api_key, volume_number, issue_number):\n",
    "    url = f'https://api.congress.gov/v3/daily-congressional-record/?api_key={api_key}'\n",
    "    response = requests.get(url)\n",
    "    # print(f\"Fetching URL: {url}\")\n",
    "    # print(f\"Response Status Code: {response.status_code}\")\n",
    "\n",
    "    if response.status_code == 200:\n",
    "        data = response.json()\n",
    "        # print(\"Response JSON:\")\n",
    "        # print(json.dumps(data, indent=2))\n",
    "        return data\n",
    "    else:\n",
    "        print(f\"Failed to fetch data: {response.status_code}\")\n",
    "        return None\n",
    "\n",
    "\n",
    "if __name__ == \"__main__\":\n",
    "    # Replace with your actual API key\n",
    "    api_key = 'UEcKdB7WGClamPX6uHFbVQq6GFaFjjbn3fTdKcDy'\n",
    "    \n",
    "\n",
    "    data = fetch_full_issue(api_key, volume_number, issue_number)\n",
    "    print(data)\n",
    "\n",
    "\n"
   ]
  },
  {
   "cell_type": "code",
   "execution_count": 3,
   "metadata": {},
   "outputs": [
    {
     "data": {
      "text/plain": [
       "'UEcKdB7WGClamPX6uHFbVQq6GFaFjjbn3fTdKcDy'"
      ]
     },
     "execution_count": 3,
     "metadata": {},
     "output_type": "execute_result"
    }
   ],
   "source": []
  },
  {
   "cell_type": "code",
   "execution_count": 3,
   "metadata": {},
   "outputs": [
    {
     "ename": "NameError",
     "evalue": "name 'CONGRESS_API_KEY' is not defined",
     "output_type": "error",
     "traceback": [
      "\u001b[0;31m---------------------------------------------------------------------------\u001b[0m",
      "\u001b[0;31mNameError\u001b[0m                                 Traceback (most recent call last)",
      "Cell \u001b[0;32mIn[3], line 1\u001b[0m\n\u001b[0;32m----> 1\u001b[0m \u001b[38;5;28mprint\u001b[39m(\u001b[43mCONGRESS_API_KEY\u001b[49m)\n",
      "\u001b[0;31mNameError\u001b[0m: name 'CONGRESS_API_KEY' is not defined"
     ]
    }
   ],
   "source": [
    "print()\n"
   ]
  },
  {
   "cell_type": "code",
   "execution_count": 1,
   "metadata": {},
   "outputs": [
    {
     "ename": "NameError",
     "evalue": "name 'data' is not defined",
     "output_type": "error",
     "traceback": [
      "\u001b[0;31m---------------------------------------------------------------------------\u001b[0m",
      "\u001b[0;31mNameError\u001b[0m                                 Traceback (most recent call last)",
      "Cell \u001b[0;32mIn[1], line 2\u001b[0m\n\u001b[1;32m      1\u001b[0m api_key \u001b[38;5;241m=\u001b[39m \u001b[38;5;124m'\u001b[39m\u001b[38;5;124mUEcKdB7WGClamPX6uHFbVQq6GFaFjjbn3fTdKcDy\u001b[39m\u001b[38;5;124m'\u001b[39m\n\u001b[0;32m----> 2\u001b[0m url \u001b[38;5;241m=\u001b[39m \u001b[43mdata\u001b[49m[\u001b[38;5;124m'\u001b[39m\u001b[38;5;124mdailyCongressionalRecord\u001b[39m\u001b[38;5;124m'\u001b[39m][\u001b[38;5;241m0\u001b[39m][\u001b[38;5;124m'\u001b[39m\u001b[38;5;124murl\u001b[39m\u001b[38;5;124m'\u001b[39m]\u001b[38;5;241m.\u001b[39mreplace(\u001b[38;5;124m'\u001b[39m\u001b[38;5;124m?format=json\u001b[39m\u001b[38;5;124m'\u001b[39m,\u001b[38;5;124m'\u001b[39m\u001b[38;5;124m/articles?api_key=UEcKdB7WGClamPX6uHFbVQq6GFaFjjbn3fTdKcDy\u001b[39m\u001b[38;5;124m'\u001b[39m)\n\u001b[1;32m      3\u001b[0m \u001b[38;5;28mprint\u001b[39m(url)\n\u001b[1;32m      4\u001b[0m response \u001b[38;5;241m=\u001b[39m requests\u001b[38;5;241m.\u001b[39mget(url)\n",
      "\u001b[0;31mNameError\u001b[0m: name 'data' is not defined"
     ]
    }
   ],
   "source": [
    "url = data['dailyCongressionalRecord'][0]['url'].replace('?format=json','/articles?api_key=UEcKdB7WGClamPX6uHFbVQq6GFaFjjbn3fTdKcDy')\n",
    "print(url)\n",
    "response = requests.get(url)\n",
    "response.json()\n"
   ]
  },
  {
   "cell_type": "code",
   "execution_count": 42,
   "metadata": {},
   "outputs": [
    {
     "data": {
      "text/plain": [
       "{'name': 'Daily Digest',\n",
       " 'sectionArticles': [{'endPage': 'D804',\n",
       "   'startPage': 'D803',\n",
       "   'text': [{'type': 'Formatted Text',\n",
       "     'url': 'https://www.congress.gov/118/crec/2024/07/31/170/125/modified/CREC-2024-07-31-pt1-PgD803-5.htm'},\n",
       "    {'type': 'PDF',\n",
       "     'url': 'https://www.congress.gov/118/crec/2024/07/31/170/125/CREC-2024-07-31-pt1-PgD803-5.pdf'}],\n",
       "   'title': 'Daily Digest/The CONGRESSIONAL RECORD (USPS 087-390).; Congressional Record Vol. 170, No. 125'},\n",
       "  {'endPage': 'D803',\n",
       "   'startPage': 'D803',\n",
       "   'text': [{'type': 'Formatted Text',\n",
       "     'url': 'https://www.congress.gov/118/crec/2024/07/31/170/125/modified/CREC-2024-07-31-pt1-PgD803-4.htm'},\n",
       "    {'type': 'PDF',\n",
       "     'url': 'https://www.congress.gov/118/crec/2024/07/31/170/125/CREC-2024-07-31-pt1-PgD803-4.pdf'}],\n",
       "   'title': 'Daily Digest/COMMITTEE MEETINGS FOR 2024-08-01; Congressional Record Vol. 170, No. 125'},\n",
       "  {'endPage': 'D803',\n",
       "   'startPage': 'D803',\n",
       "   'text': [{'type': 'Formatted Text',\n",
       "     'url': 'https://www.congress.gov/118/crec/2024/07/31/170/125/modified/CREC-2024-07-31-pt1-PgD803-3.htm'},\n",
       "    {'type': 'PDF',\n",
       "     'url': 'https://www.congress.gov/118/crec/2024/07/31/170/125/CREC-2024-07-31-pt1-PgD803-3.pdf'}],\n",
       "   'title': 'Daily Digest/NEW PUBLIC LAWS; Congressional Record Vol. 170, No. 125'},\n",
       "  {'endPage': 'D803',\n",
       "   'startPage': 'D803',\n",
       "   'text': [{'type': 'Formatted Text',\n",
       "     'url': 'https://www.congress.gov/118/crec/2024/07/31/170/125/modified/CREC-2024-07-31-pt1-PgD803-2.htm'},\n",
       "    {'type': 'PDF',\n",
       "     'url': 'https://www.congress.gov/118/crec/2024/07/31/170/125/CREC-2024-07-31-pt1-PgD803-2.pdf'}],\n",
       "   'title': 'Daily Digest/House Committee Meetings; Congressional Record Vol. 170, No. 125'},\n",
       "  {'endPage': 'D803',\n",
       "   'startPage': 'D803',\n",
       "   'text': [{'type': 'Formatted Text',\n",
       "     'url': 'https://www.congress.gov/118/crec/2024/07/31/170/125/modified/CREC-2024-07-31-pt1-PgD803.htm'},\n",
       "    {'type': 'PDF',\n",
       "     'url': 'https://www.congress.gov/118/crec/2024/07/31/170/125/CREC-2024-07-31-pt1-PgD803.pdf'}],\n",
       "   'title': 'Daily Digest/House of Representatives; Congressional Record Vol. 170, No. 125'},\n",
       "  {'endPage': 'D802',\n",
       "   'startPage': 'D799',\n",
       "   'text': [{'type': 'Formatted Text',\n",
       "     'url': 'https://www.congress.gov/118/crec/2024/07/31/170/125/modified/CREC-2024-07-31-pt1-PgD799.htm'},\n",
       "    {'type': 'PDF',\n",
       "     'url': 'https://www.congress.gov/118/crec/2024/07/31/170/125/CREC-2024-07-31-pt1-PgD799.pdf'}],\n",
       "   'title': 'Daily Digest/Senate Committee Meetings; Congressional Record Vol. 170, No. 125'},\n",
       "  {'endPage': 'D799',\n",
       "   'startPage': 'D797',\n",
       "   'text': [{'type': 'Formatted Text',\n",
       "     'url': 'https://www.congress.gov/118/crec/2024/07/31/170/125/modified/CREC-2024-07-31-pt1-PgD797.htm'},\n",
       "    {'type': 'PDF',\n",
       "     'url': 'https://www.congress.gov/118/crec/2024/07/31/170/125/CREC-2024-07-31-pt1-PgD797.pdf'}],\n",
       "   'title': 'Daily Digest/Senate; Congressional Record Vol. 170, No. 125'}]}"
      ]
     },
     "metadata": {},
     "output_type": "display_data"
    }
   ],
   "source": [
    "import pandas as pd\n",
    "# pd.DataFrame(response.json()['articles']['Daily Digest'])\n",
    "\n",
    "response.json()['articles']\n",
    "for article in response.json()['articles']:\n",
    "    if article['name'] == 'Daily Digest':\n",
    "        display(article)\n",
    "        #filter now where title includes \"Daily Digest/Senate\"\n",
    "        if article['title'] includes 'Daily Digest/Senate':\n",
    "            display(article)\n",
    "        break\n",
    "    else:\n",
    "        continue\n",
    "\n",
    "\n",
    "\n"
   ]
  },
  {
   "cell_type": "code",
   "execution_count": 11,
   "metadata": {},
   "outputs": [
    {
     "name": "stdout",
     "output_type": "stream",
     "text": [
      "<!DOCTYPE html>\n",
      "\n",
      "<html lang=\"en\">\n",
      "<head>\n",
      "<meta content=\"IE=edge\" http-equiv=\"X-UA-Compatible\"/>\n",
      "<meta charset=\"utf-8\"/>\n",
      "<title>GovInfo</title>\n",
      "<meta content=\"width=device-width, initial-scale=1.0, maximum-scale=1.0\" name=\"viewport\"/>\n",
      "<meta content=\"\" name=\"description\"/>\n",
      "<meta content=\"\" name=\"author\"/>\n",
      "<meta content=\"summary\" name=\"twitter:card\">\n",
      "<meta content=\"www.govinfo.gov\" name=\"twitter:site\">\n",
      "<meta content=\"\" name=\"twitter:title\">\n",
      "<meta content=\"Official Publications from the U.S. Government Publishing Office.\" name=\"twitter:description\">\n",
      "<meta content=\"https://www.govinfo.gov/sites/default/files/media/govinfo_eagle_homepage.png\" name=\"twitter:image\">\n",
      "<meta content=\"\" name=\"twitter:url\"/>\n",
      "<meta content=\"\" property=\"og:title\"/>\n",
      "<meta content=\"Official Publications from the U.S. Government Publishing Office.\" property=\"og:description\"/>\n",
      "<meta content=\"https://www.govinfo.gov/sites/default/files/media/govinfo_eagle_homepage.png\" property=\"og:image\"/>\n",
      "<meta content=\"\" property=\"og:url\"/>\n",
      "<!--<script src=\"https://ajax.googleapis.com/ajax/libs/jquery/1.11.0/jquery.min.js\"></script>-->\n",
      "<link href=\"https://fonts.googleapis.com/css?family=Lato:700|Roboto:400,700\" rel=\"stylesheet\"/>\n",
      "<link href=\"https://stackpath.bootstrapcdn.com/font-awesome/4.3.0/css/font-awesome.min.css\" rel=\"stylesheet\"/>\n",
      "<link href=\"/app/dynamic/stylesheets/bootstrap/bootstrap.min.css\" rel=\"stylesheet\"/>\n",
      "<!-- Fav and touch icons -->\n",
      "<link href=\"../lib/bootstrap/ico/apple-touch-icon-76.png\" rel=\"apple-touch-icon-precomposed\" sizes=\"76x76\"/>\n",
      "<link href=\"../lib/bootstrap/ico/apple-touch-icon-120.png\" rel=\"apple-touch-icon-precomposed\" sizes=\"120x120\"/>\n",
      "<link href=\"../lib/bootstrap/ico/apple-touch-icon-152.png\" rel=\"apple-touch-icon-precomposed\" sizes=\"152x152\"/>\n",
      "<link href=\"../lib/bootstrap/ico/apple-touch-icon-167.png\" rel=\"apple-touch-icon-precomposed\" sizes=\"167x167\"/>\n",
      "<link href=\"../lib/bootstrap/ico/apple-touch-icon-180.png\" rel=\"apple-touch-icon-precomposed\" sizes=\"180x180\"/>\n",
      "<link href=\"/favicon.ico\" rel=\"shortcut icon\"/>\n",
      "<script src=\"/app/search/tracker_config.js\"></script>\n",
      "<!-- bundle automatically appended by Webpack -->\n",
      "<script src=\"/app/infrastructure.js\"></script>\n",
      "<link href=\"/app/main.min.css\" rel=\"stylesheet\"/><script src=\"/app/search.bundle.6.23.0.js\" type=\"text/javascript\"></script></meta></meta></meta></meta></meta></head>\n",
      "<body>\n",
      "<header></header>\n",
      "<div id=\"mainViewContent\"></div>\n",
      "<div id=\"mainViewFooter\"></div>\n",
      "</body>\n",
      "</html>\n",
      "\n",
      "[]\n",
      "Download complete.\n"
     ]
    }
   ],
   "source": [
    "import requests\n",
    "from bs4 import BeautifulSoup\n",
    "import os\n",
    "\n",
    "# URL of the page containing the PDFs\n",
    "url = \"https://www.govinfo.gov/app/collection/crec/\"\n",
    "\n",
    "# Function to download a file\n",
    "def download_file(url, local_filename):\n",
    "    with requests.get(url, stream=True) as r:\n",
    "        r.raise_for_status()\n",
    "        with open(local_filename, 'wb') as f:\n",
    "            for chunk in r.iter_content(chunk_size=8192):\n",
    "                f.write(chunk)\n",
    "    return local_filename\n",
    "# Get the content of the page\n",
    "response = requests.get(url)\n",
    "soup = BeautifulSoup(response.content, 'html.parser')\n",
    "print(soup)\n",
    "# Find all rows in the table\n",
    "rows = soup.find_all(class_='table')\n",
    "print(rows)\n",
    "\n",
    "# Create a directory to save the PDFs\n",
    "if not os.path.exists('pdfs'):\n",
    "    os.makedirs('pdfs')\n",
    "\n",
    "# Iterate through rows to find the \"House Section\" PDFs\n",
    "for row in rows:\n",
    "    if 'House Section' in row.text:\n",
    "        pdf_link = row.find('a', href=True)['href']\n",
    "        full_url = f\"https://www.govinfo.gov{pdf_link}\"\n",
    "        local_filename = os.path.join('pdfs', pdf_link.split('/')[-1])\n",
    "        print(f\"Downloading {full_url} to {local_filename}\")\n",
    "        download_file(full_url, local_filename)\n",
    "\n",
    "print(\"Download complete.\")"
   ]
  }
 ],
 "metadata": {
  "kernelspec": {
   "display_name": "Python 3",
   "language": "python",
   "name": "python3"
  },
  "language_info": {
   "codemirror_mode": {
    "name": "ipython",
    "version": 3
   },
   "file_extension": ".py",
   "mimetype": "text/x-python",
   "name": "python",
   "nbconvert_exporter": "python",
   "pygments_lexer": "ipython3",
   "version": "3.12.1"
  }
 },
 "nbformat": 4,
 "nbformat_minor": 2
}
