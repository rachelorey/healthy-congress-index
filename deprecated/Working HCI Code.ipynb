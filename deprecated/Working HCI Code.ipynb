{
 "cells": [
  {
   "cell_type": "code",
   "execution_count": null,
   "metadata": {},
   "outputs": [],
   "source": [
    "#WORKING CODE -- what to do when an element is missing\n",
    "#so far I think it only works when there's an irregularity in \"Latest\"\n",
    "\n",
    "#get the list which doesn't match others' length\n",
    "minlist = min(len(Bill_Code), len(Latest), len(Congress), len(Leg_Title), len(Date_Intro)) \n",
    "lists = [Bill_Code,Latest,Congress,Leg_Title,Date_Intro]\n",
    "list_index = [ind for ind,l in enumerate(lists) if len(l) == minlist]\n",
    "\n",
    "#list of all the xpaths (organized acc to lists index)\n",
    "xpaths =  {0:(\"span[@class='result-heading']\"),\n",
    "            1:(\"span[@class='result-item'][contains(strong/text(),'Latest Action')]\"),\n",
    "            2:(\"span[@class='result-heading']//a/following-sibling\"),\n",
    "            3:(\"span[@class='result-title bottom-padding']\"),\n",
    "            4:(\"span[@class='result-item'][1]/span[1]/a[1]/following-sibling\")}\n",
    "\n",
    "def insert(l,index_toadd):\n",
    "    l = l.insert(index_toadd-1,None)\n",
    "    return(l)\n",
    "\n",
    "for list_item in list_index:\n",
    "    index_toadd = tree.xpath(\"//*//ol[@class='basic-search-results-lists expanded-view']//li[@class='compact'][count(\"+xpaths.get(list_item)+\")=0]/text()[1][normalize-space()]\")\n",
    "\n",
    "    if type(index_toadd) is int:\n",
    "        insert(lists[list_item],index_toadd)\n",
    "\n",
    "# zipped = zip(Bill_Code,Latest,Congress,Leg_Title,Date_Intro,House_or_Senate*len(Date_Intro))\n",
    "# results = results.append(pd.DataFrame(list(zipped),columns = [\"Measure\",\"Latest\",\"Congress\",\"Legislation Title\",\"Date Introduced\",\"House or Senate\"]))\n",
    "\n"
   ]
  }
 ],
 "metadata": {
  "kernelspec": {
   "display_name": "Python 3",
   "language": "python",
   "name": "python3"
  },
  "language_info": {
   "codemirror_mode": {
    "name": "ipython",
    "version": 3
   },
   "file_extension": ".py",
   "mimetype": "text/x-python",
   "name": "python",
   "nbconvert_exporter": "python",
   "pygments_lexer": "ipython3",
   "version": "3.7.4"
  }
 },
 "nbformat": 4,
 "nbformat_minor": 2
}
