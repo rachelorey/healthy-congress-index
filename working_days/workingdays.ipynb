{
 "cells": [
  {
   "cell_type": "code",
   "execution_count": null,
   "metadata": {},
   "outputs": [
    {
     "data": {
      "text/plain": [
       "<module 'workingdays_helper' from '/Users/rachelorey/Documents/vs code/healthy-congress-index/working_days/workingdays_helper.py'>"
      ]
     },
     "execution_count": 91,
     "metadata": {},
     "output_type": "execute_result"
    }
   ],
   "source": [
    "import workingdays_helper\n",
    "import pandas as pd\n",
    "import importlib\n",
    "\n",
    "importlib.reload(workingdays_helper)"
   ]
  },
  {
   "cell_type": "code",
   "execution_count": null,
   "metadata": {},
   "outputs": [],
   "source": [
    "# takes already run files, which JL or RO filled in erroneous rows by hand, and joins them for 2022-2024\n",
    "\n",
    "fulldf = pd.read_csv(\"updated_by_hand_Jan22-Oct24.csv\")\n",
    "newdf = pd.read_csv(\"updated_by_hand_Oct24-Jan25.csv\",index_col=0,encoding=\"ISO-8859-1\")\n",
    "\n",
    "# Append newdf to fulldf and remove duplicates\n",
    "combined_df = pd.concat([fulldf, newdf], ignore_index=True).drop_duplicates()\n",
    "\n",
    "combined_df\n",
    "\n",
    "combined_df.to_csv(\"2022-2024_complete_clean.csv\", index=False)"
   ]
  },
  {
   "cell_type": "code",
   "execution_count": 92,
   "metadata": {},
   "outputs": [
    {
     "name": "stdout",
     "output_type": "stream",
     "text": [
      "https://www.congress.gov/congressional-record/2024/12/19/daily-digest\n",
      "Issue exracting times, string:  Thirty-seven bills and three resolutions were introduced as follows: –5638 and \n",
      "Error: unsupported operand type(s) for -: 'str' and 'str'\n",
      "Issue exracting times, string:  Adjournment: The House met at 9 a.m. and adjourned at 8:47 p.m. \n",
      "Error: unsupported operand type(s) for -: 'str' and 'str'\n",
      "Issue exracting times, string:   \n",
      "Error: unsupported operand type(s) for -: 'str' and 'str'\n",
      "Issue exracting times, string:   \n",
      "Error: unsupported operand type(s) for -: 'str' and 'str'\n"
     ]
    }
   ],
   "source": [
    "remaining_2024 = workingdays_helper.workingdays(start=\"12/19/2024\",end=\"12/19/2024\")"
   ]
  },
  {
   "cell_type": "markdown",
   "metadata": {},
   "source": [
    "Join each year's csv file"
   ]
  },
  {
   "cell_type": "code",
   "execution_count": 98,
   "metadata": {},
   "outputs": [],
   "source": [
    "# csv_files = [\"2022.csv\",\"2023.csv\",\"2024.csv\"]\n",
    "\n",
    "# # read and concatenate all CSV files into a single DataFrame\n",
    "# df_list = [pd.read_csv(file) for file in csv_files]\n",
    "# df = pd.concat(df_list, ignore_index=True)\n",
    "\n",
    "# # drop the 'Unnamed' column\n",
    "# df.drop(columns=['Unnamed: 0'], errors='ignore',inplace=True)\n",
    "\n",
    "# display(df.head(2))\n"
   ]
  },
  {
   "cell_type": "markdown",
   "metadata": {},
   "source": [
    "Rerun with workingdays() updates for rows INPUT BY HAND"
   ]
  },
  {
   "cell_type": "code",
   "execution_count": 84,
   "metadata": {},
   "outputs": [],
   "source": [
    "# # Identify rows where 'Working Day?' is 'INPUT BY HAND'\n",
    "# input_by_hand_rows = df[df[\"Working Day?\"] == \"INPUT BY HAND\"]\n",
    "# input_by_hand_rows = input_by_hand_rows.drop_duplicates(subset=['Date'])\n",
    "\n",
    "# updated_rows = []\n",
    "\n",
    "# # Iterate over the rows where 'Working Day?' is 'INPUT BY HAND'\n",
    "# for index, row in input_by_hand_rows.iterrows():\n",
    "#     # Extract the date or any other relevant data to rerun workingdays()\n",
    "#     date_to_check = row['Date']\n",
    "\n",
    "#     # Call workingdays() for the specific date\n",
    "#     result = workingdays_helper.workingdays(date_to_check, date_to_check)\n",
    "\n",
    "#     updated_rows.append(result)\n",
    "\n",
    "# updated_df = pd.concat(updated_rows, ignore_index=True)\n",
    "# display(updated_df)"
   ]
  },
  {
   "cell_type": "code",
   "execution_count": null,
   "metadata": {},
   "outputs": [],
   "source": [
    "# for index, row in df.iterrows():\n",
    "#     # Check if 'Working Day?' is 'INPUT BY HAND'\n",
    "#     if row[\"Working Day?\"] == \"INPUT BY HAND\":\n",
    "        \n",
    "#         # Find the row in updated_df that matches both 'Date' and 'House or Senate'\n",
    "#         row_to_replace = updated_df[(updated_df[\"Date\"] == row['Date']) & \n",
    "#                                     (updated_df[\"House or Senate\"] == row['House or Senate'])]\n",
    "\n",
    "#         # Ensure that exactly one row is found\n",
    "#         if len(row_to_replace) == 1:\n",
    "#             # Replace the entire row in df with the matching row from updated_df\n",
    "#             df.loc[index] = row_to_replace.values[0]\n",
    "#         elif len(row_to_replace) == 0:\n",
    "#             print(f\"No match found for index {index}, Date: {row['Date']}, House or Senate: {row['House or Senate']}\")\n",
    "#         else:\n",
    "#             print(f\"Multiple matches found for index {index}, Date: {row['Date']}, House or Senate: {row['House or Senate']}. Skipping.\")"
   ]
  },
  {
   "cell_type": "code",
   "execution_count": null,
   "metadata": {},
   "outputs": [
    {
     "name": "stdout",
     "output_type": "stream",
     "text": [
      "              Year Quarter Working Days - Senate Working Days - House\n",
      "0           2022.0      Q1                     0                    0\n",
      "1           2022.0      Q2                     0                    0\n",
      "2           2022.0      Q3                     0                    0\n",
      "3           2022.0      Q4                     0                    0\n",
      "4           2023.0      Q1                     0                    0\n",
      "5           2023.0      Q2                     0                    0\n",
      "6           2023.0      Q3                     0                    0\n",
      "7           2023.0      Q4                     0                    0\n",
      "8           2024.0      Q1                     0                    0\n",
      "9           2024.0      Q2                     0                    0\n",
      "10          2024.0      Q3                     0                    0\n",
      "11          2024.0      Q4                    20                   21\n",
      "12          2025.0      Q1                     1                    1\n",
      "13          2025.0      Q2                     0                    0\n",
      "14          2025.0      Q3                     0                    0\n",
      "15          2025.0      Q4                     0                    0\n",
      "Date Range     NaN     NaN            01/01/2022           01/03/2025\n"
     ]
    }
   ],
   "source": [
    "# df = combined_df\n",
    "\n",
    "# import pandas as pd\n",
    "# from datetime import datetime\n",
    "\n",
    "# # Define start and end dates\n",
    "# start = \"01/01/2022\"\n",
    "# end = \"01/03/2025\"\n",
    "\n",
    "# datestart = datetime.strptime(start, '%m/%d/%Y').date()\n",
    "# dateend = datetime.strptime(end, '%m/%d/%Y').date()\n",
    "\n",
    "# # Convert the 'Date' column in the DataFrame to datetime\n",
    "# df['Date'] = pd.to_datetime(df['Date'])\n",
    "\n",
    "# # Initialize lists to accumulate results\n",
    "# senate_working_days = []\n",
    "# house_working_days = []\n",
    "# years = range(datestart.year, dateend.year + 1)\n",
    "\n",
    "# # Iterate over each year in the range\n",
    "# for year in years:\n",
    "#     # Senate data filtering by quarters\n",
    "#     df_senate = df[df[\"House or Senate\"] == \"Senate\"]\n",
    "    \n",
    "#     Q1_senate = df_senate[(df_senate['Date'] >= pd.to_datetime(f\"{year}-01-01\")) & \n",
    "#                           (df_senate['Date'] <= pd.to_datetime(f\"{year}-03-31\"))]\n",
    "#     Q2_senate = df_senate[(df_senate['Date'] > pd.to_datetime(f\"{year}-03-31\")) & \n",
    "#                           (df_senate['Date'] <= pd.to_datetime(f\"{year}-06-30\"))]\n",
    "#     Q3_senate = df_senate[(df_senate['Date'] > pd.to_datetime(f\"{year}-06-30\")) & \n",
    "#                           (df_senate['Date'] <= pd.to_datetime(f\"{year}-09-30\"))]\n",
    "#     Q4_senate = df_senate[(df_senate['Date'] > pd.to_datetime(f\"{year}-09-30\")) & \n",
    "#                           (df_senate['Date'] <= pd.to_datetime(f\"{year}-12-31\"))]\n",
    "\n",
    "#     # Count the working days for Senate\n",
    "#     ls_senate = [\n",
    "#         len(Q1_senate[Q1_senate[\"Working Day?\"] == \"x\"]),\n",
    "#         len(Q2_senate[Q2_senate[\"Working Day?\"] == \"x\"]),\n",
    "#         len(Q3_senate[Q3_senate[\"Working Day?\"] == \"x\"]),\n",
    "#         len(Q4_senate[Q4_senate[\"Working Day?\"] == \"x\"])\n",
    "#     ]\n",
    "#     senate_working_days.append(ls_senate)\n",
    "\n",
    "#     # House data filtering by quarters\n",
    "#     df_house = df[df[\"House or Senate\"] == \"House\"]\n",
    "\n",
    "#     Q1_house = df_house[(df_house['Date'] >= pd.to_datetime(f\"{year}-01-01\")) & \n",
    "#                         (df_house['Date'] <= pd.to_datetime(f\"{year}-03-31\"))]\n",
    "#     Q2_house = df_house[(df_house['Date'] > pd.to_datetime(f\"{year}-03-31\")) & \n",
    "#                         (df_house['Date'] <= pd.to_datetime(f\"{year}-06-30\"))]\n",
    "#     Q3_house = df_house[(df_house['Date'] > pd.to_datetime(f\"{year}-06-30\")) & \n",
    "#                         (df_house['Date'] <= pd.to_datetime(f\"{year}-09-30\"))]\n",
    "#     Q4_house = df_house[(df_house['Date'] > pd.to_datetime(f\"{year}-09-30\")) & \n",
    "#                         (df_house['Date'] <= pd.to_datetime(f\"{year}-12-31\"))]\n",
    "\n",
    "#     # Count the working days for House\n",
    "#     ls_house = [\n",
    "#         len(Q1_house[Q1_house[\"Working Day?\"] == \"x\"]),\n",
    "#         len(Q2_house[Q2_house[\"Working Day?\"] == \"x\"]),\n",
    "#         len(Q3_house[Q3_house[\"Working Day?\"] == \"x\"]),\n",
    "#         len(Q4_house[Q4_house[\"Working Day?\"] == \"x\"])\n",
    "#     ]\n",
    "#     house_working_days.append(ls_house)\n",
    "\n",
    "# # Flatten the lists and create a multi-year summary DataFrame\n",
    "# summary_data = {\n",
    "#     \"Year\": [],\n",
    "#     \"Quarter\": [],\n",
    "#     \"Working Days - Senate\": [],\n",
    "#     \"Working Days - House\": []\n",
    "# }\n",
    "\n",
    "# quarters = [\"Q1\", \"Q2\", \"Q3\", \"Q4\"]\n",
    "\n",
    "# for i, year in enumerate(years):\n",
    "#     for q, quarter in enumerate(quarters):\n",
    "#         summary_data[\"Year\"].append(year)\n",
    "#         summary_data[\"Quarter\"].append(quarter)\n",
    "#         summary_data[\"Working Days - Senate\"].append(senate_working_days[i][q])\n",
    "#         summary_data[\"Working Days - House\"].append(house_working_days[i][q])\n",
    "\n",
    "# summary = pd.DataFrame(summary_data)\n",
    "\n",
    "# # Create a DataFrame for the date range\n",
    "# date_range_df = pd.DataFrame({\n",
    "#     \"Working Days - Senate\": [start],\n",
    "#     \"Working Days - House\": [dateend.strftime(\"%m/%d/%Y\")]\n",
    "# }, index=[\"Date Range\"])\n",
    "\n",
    "# # Use pd.concat to combine the date range with the summary\n",
    "# summary_with_range = pd.concat([summary, date_range_df], axis=0)\n",
    "\n",
    "# # Display the summary\n",
    "# print(summary_with_range)\n"
   ]
  },
  {
   "cell_type": "code",
   "execution_count": null,
   "metadata": {},
   "outputs": [],
   "source": []
  },
  {
   "cell_type": "code",
   "execution_count": null,
   "metadata": {},
   "outputs": [],
   "source": []
  }
 ],
 "metadata": {
  "kernelspec": {
   "display_name": "Python 3",
   "language": "python",
   "name": "python3"
  },
  "language_info": {
   "codemirror_mode": {
    "name": "ipython",
    "version": 3
   },
   "file_extension": ".py",
   "mimetype": "text/x-python",
   "name": "python",
   "nbconvert_exporter": "python",
   "pygments_lexer": "ipython3",
   "version": "3.9.6"
  }
 },
 "nbformat": 4,
 "nbformat_minor": 2
}
